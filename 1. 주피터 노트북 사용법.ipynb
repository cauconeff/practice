{
 "cells": [
  {
   "cell_type": "markdown",
   "metadata": {},
   "source": [
    "# 주피터 노트북\n",
    "## 파이썬 코드를 쉽게 쓰고 확인하고 이늘 쉽게 문서화하고 싶은 경우 사용합니다\n",
    "### Markdown 문서\n",
    "* 코드를 블럭별로 실행한 결과를 저장하면 다시 문서를 불러왔을때 그 결과를 재실행 하지 않아도 볼 수 있습니다.\n",
    "* 데이터를 핸들링 하는 과정과 결과를 볼 수 있어 개발환경을 구축하지 않은 사람도 코드를 볼 수 있습니다."
   ]
  },
  {
   "cell_type": "markdown",
   "metadata": {},
   "source": [
    "### 굵은 글씨, 기울인 글씨, 굵은 상태에서 기울인 글씨\n",
    "*기울인 글씨*와 **굵은  글씨**와 ***굵게 기울인 글씨***"
   ]
  },
  {
   "cell_type": "markdown",
   "metadata": {},
   "source": [
    "<div align=\"center\"><img src=\"tree.png\" width=\"300\" height=\"300\"></div>\n",
    "<div align=\"center\"> 그림1. 나무</div>"
   ]
  },
  {
   "cell_type": "markdown",
   "metadata": {},
   "source": [
    "### 주요 단축키\n",
    "* shift + enter : 액티브 셀을 실행하고 아래 셀을 선택\n",
    "* ctrl + enter : 액티브 셀을 실행\n",
    "* alt + enter : 액티브 셀을 실행하고 아래에 셀을 하나 생성\n",
    "* shift + ctrl + - : 커서위치에서 셀을 둘로 나눔\n",
    "* shift + m : 선택 셀과 아래 셀을 함침\n",
    "* dd : 선택한 셀 삭제\n",
    "* a : 위로 셀 추가\n",
    "* b : 아래로 셀 추가\n",
    "* m : markdown으로 변경\n",
    "* y : code 로 변경"
   ]
  }
 ],
 "metadata": {
  "kernelspec": {
   "display_name": "Python 3",
   "language": "python",
   "name": "python3"
  },
  "language_info": {
   "codemirror_mode": {
    "name": "ipython",
    "version": 3
   },
   "file_extension": ".py",
   "mimetype": "text/x-python",
   "name": "python",
   "nbconvert_exporter": "python",
   "pygments_lexer": "ipython3",
   "version": "3.7.4"
  }
 },
 "nbformat": 4,
 "nbformat_minor": 2
}
